{
 "cells": [
  {
   "cell_type": "markdown",
   "source": [
    "# 数据预处理 \n",
    "    * 静态数据库分析\n",
    "        . 剔除无关数据、时间格式转换、计算新特征并生成新数据集\n",
    "    * 动态数据库分析\n",
    "        . 计算总各指标数量和每月各指标增长率，生成新数据集\n",
    "    * 合并分析\n",
    "        "
   ],
   "metadata": {
    "collapsed": false
   },
   "id": "f851f0d7a3043f23"
  },
  {
   "cell_type": "code",
   "execution_count": 1,
   "id": "initial_id",
   "metadata": {
    "collapsed": true,
    "ExecuteTime": {
     "end_time": "2024-10-14T16:54:54.252006Z",
     "start_time": "2024-10-14T16:54:54.237429Z"
    }
   },
   "outputs": [],
   "source": [
    "import pandas as pd\n",
    "import matplotlib.pyplot as plt\n",
    "import seaborn as sns\n",
    "from datetime import datetime"
   ]
  },
  {
   "cell_type": "markdown",
   "source": [
    "## 静态数据预处理"
   ],
   "metadata": {
    "collapsed": false
   },
   "id": "281a89dc183d4c6e"
  },
  {
   "cell_type": "markdown",
   "source": [
    "#### 'isFork', 'archivedAt', 'isTemplate', 'licenseInfo', 'repositoryTopics', 'description', 'isDeprecated' 为无关特征，应舍去"
   ],
   "metadata": {
    "collapsed": false
   },
   "id": "556c0f99cc585134"
  },
  {
   "cell_type": "code",
   "outputs": [
    {
     "name": "stdout",
     "output_type": "stream",
     "text": [
      "(103354, 7)\n"
     ]
    },
    {
     "data": {
      "text/plain": "                          nameWithOwner  stargazerCount             createdAt  \\\n0         goincrypto/cryptocom-exchange              63  2020-01-08T15:01:39Z   \n1       shaofengzeng/SuperPoint-Pytorch             105  2021-10-16T10:01:07Z   \n2          HAOLI-TUKL/Multi_Robots_DMPC              50  2020-09-28T13:13:43Z   \n3    LuxDevHQ/Python-Writing-Clean-Code              44  2021-07-15T22:25:02Z   \n4  graphql-compose/graphql-compose-json              64  2017-11-03T08:26:38Z   \n\n              updatedAt              pushedAt  isArchived primaryLanguage  \n0  2023-05-31T14:03:31Z  2023-02-16T01:46:43Z       False          Python  \n1  2023-06-16T09:13:03Z  2023-05-09T09:46:40Z       False          Python  \n2  2023-06-12T13:20:02Z  2021-02-10T21:31:04Z       False             C++  \n3  2023-06-01T18:26:24Z  2023-05-28T10:24:45Z       False             NaN  \n4  2022-03-04T21:22:07Z  2023-01-07T03:51:09Z       False      TypeScript  ",
      "text/html": "<div>\n<style scoped>\n    .dataframe tbody tr th:only-of-type {\n        vertical-align: middle;\n    }\n\n    .dataframe tbody tr th {\n        vertical-align: top;\n    }\n\n    .dataframe thead th {\n        text-align: right;\n    }\n</style>\n<table border=\"1\" class=\"dataframe\">\n  <thead>\n    <tr style=\"text-align: right;\">\n      <th></th>\n      <th>nameWithOwner</th>\n      <th>stargazerCount</th>\n      <th>createdAt</th>\n      <th>updatedAt</th>\n      <th>pushedAt</th>\n      <th>isArchived</th>\n      <th>primaryLanguage</th>\n    </tr>\n  </thead>\n  <tbody>\n    <tr>\n      <th>0</th>\n      <td>goincrypto/cryptocom-exchange</td>\n      <td>63</td>\n      <td>2020-01-08T15:01:39Z</td>\n      <td>2023-05-31T14:03:31Z</td>\n      <td>2023-02-16T01:46:43Z</td>\n      <td>False</td>\n      <td>Python</td>\n    </tr>\n    <tr>\n      <th>1</th>\n      <td>shaofengzeng/SuperPoint-Pytorch</td>\n      <td>105</td>\n      <td>2021-10-16T10:01:07Z</td>\n      <td>2023-06-16T09:13:03Z</td>\n      <td>2023-05-09T09:46:40Z</td>\n      <td>False</td>\n      <td>Python</td>\n    </tr>\n    <tr>\n      <th>2</th>\n      <td>HAOLI-TUKL/Multi_Robots_DMPC</td>\n      <td>50</td>\n      <td>2020-09-28T13:13:43Z</td>\n      <td>2023-06-12T13:20:02Z</td>\n      <td>2021-02-10T21:31:04Z</td>\n      <td>False</td>\n      <td>C++</td>\n    </tr>\n    <tr>\n      <th>3</th>\n      <td>LuxDevHQ/Python-Writing-Clean-Code</td>\n      <td>44</td>\n      <td>2021-07-15T22:25:02Z</td>\n      <td>2023-06-01T18:26:24Z</td>\n      <td>2023-05-28T10:24:45Z</td>\n      <td>False</td>\n      <td>NaN</td>\n    </tr>\n    <tr>\n      <th>4</th>\n      <td>graphql-compose/graphql-compose-json</td>\n      <td>64</td>\n      <td>2017-11-03T08:26:38Z</td>\n      <td>2022-03-04T21:22:07Z</td>\n      <td>2023-01-07T03:51:09Z</td>\n      <td>False</td>\n      <td>TypeScript</td>\n    </tr>\n  </tbody>\n</table>\n</div>"
     },
     "execution_count": 4,
     "metadata": {},
     "output_type": "execute_result"
    }
   ],
   "source": [
    "# 读取静态基本信息数据集\n",
    "repositories_label = pd.read_csv('../data/Repositories_with_label.csv')\n",
    "# 剔除无关数据\n",
    "columns_to_drop = [  \n",
    "    'isFork', 'archivedAt', 'isTemplate', 'licenseInfo',   \n",
    "    'repositoryTopics', 'description', 'isDeprecated'  \n",
    "]  \n",
    "repositories_label = repositories_label.drop(columns=columns_to_drop)\n",
    "\n",
    "print(repositories_label.shape)\n",
    "repositories_label.head()"
   ],
   "metadata": {
    "collapsed": false,
    "ExecuteTime": {
     "end_time": "2024-10-06T10:40:14.351503Z",
     "start_time": "2024-10-06T10:40:13.863978Z"
    }
   },
   "id": "ed611a7f7007f8a2",
   "execution_count": 4
  },
  {
   "cell_type": "code",
   "outputs": [
    {
     "data": {
      "text/plain": "nameWithOwner      object\nstargazerCount      int64\ncreatedAt          object\nupdatedAt          object\npushedAt           object\nisArchived           bool\nprimaryLanguage    object\ndtype: object"
     },
     "execution_count": 5,
     "metadata": {},
     "output_type": "execute_result"
    }
   ],
   "source": [
    "repositories_label.dtypes"
   ],
   "metadata": {
    "collapsed": false,
    "ExecuteTime": {
     "end_time": "2024-10-06T10:40:16.266956Z",
     "start_time": "2024-10-06T10:40:16.256608Z"
    }
   },
   "id": "722a9f3747301ad7",
   "execution_count": 5
  },
  {
   "cell_type": "markdown",
   "source": [
    "#### 加入特征【total_lifetime】【active_lifetime】"
   ],
   "metadata": {
    "collapsed": false
   },
   "id": "8889f1a35d98adac"
  },
  {
   "cell_type": "code",
   "outputs": [],
   "source": [
    "# 将时间字符串转换为datetime对象，确保不带时区\n",
    "repositories_label['createdAt'] = pd.to_datetime(repositories_label['createdAt']).dt.tz_localize(None)\n",
    "repositories_label['updatedAt'] = pd.to_datetime(repositories_label['updatedAt']).dt.tz_localize(None)\n",
    "\n",
    "# age表示从建库到2023.12.31的天数\n",
    "end_date = datetime(2023, 12, 31)\n",
    "repositories_label['total_lifetime'] = (end_date - repositories_label['createdAt']).dt.days  \n",
    "\n",
    "# lifetime表示从建库到最后一次更新的天数\n",
    "repositories_label['active_lifetime'] = (repositories_label['updatedAt'] - repositories_label['createdAt']).dt.days  \n",
    "\n",
    "# 删除createdAt列\n",
    "repositories_label.drop('createdAt', axis=1, inplace=True)\n",
    "repositories_label.drop('updatedAt', axis=1, inplace=True)\n",
    "repositories_label.drop('pushedAt', axis=1, inplace=True)"
   ],
   "metadata": {
    "collapsed": false,
    "ExecuteTime": {
     "end_time": "2024-10-06T10:40:18.549377Z",
     "start_time": "2024-10-06T10:40:18.284037Z"
    }
   },
   "id": "590922d9fa245278",
   "execution_count": 6
  },
  {
   "cell_type": "code",
   "outputs": [
    {
     "name": "stdout",
     "output_type": "stream",
     "text": [
      "(103354, 6)\n"
     ]
    },
    {
     "data": {
      "text/plain": "                          nameWithOwner  stargazerCount  isArchived  \\\n0         goincrypto/cryptocom-exchange              63       False   \n1       shaofengzeng/SuperPoint-Pytorch             105       False   \n2          HAOLI-TUKL/Multi_Robots_DMPC              50       False   \n3    LuxDevHQ/Python-Writing-Clean-Code              44       False   \n4  graphql-compose/graphql-compose-json              64       False   \n\n  primaryLanguage  total_lifetime  active_lifetime  \n0          Python            1452             1238  \n1          Python             805              607  \n2             C++            1188              987  \n3             NaN             898              685  \n4      TypeScript            2248             1582  ",
      "text/html": "<div>\n<style scoped>\n    .dataframe tbody tr th:only-of-type {\n        vertical-align: middle;\n    }\n\n    .dataframe tbody tr th {\n        vertical-align: top;\n    }\n\n    .dataframe thead th {\n        text-align: right;\n    }\n</style>\n<table border=\"1\" class=\"dataframe\">\n  <thead>\n    <tr style=\"text-align: right;\">\n      <th></th>\n      <th>nameWithOwner</th>\n      <th>stargazerCount</th>\n      <th>isArchived</th>\n      <th>primaryLanguage</th>\n      <th>total_lifetime</th>\n      <th>active_lifetime</th>\n    </tr>\n  </thead>\n  <tbody>\n    <tr>\n      <th>0</th>\n      <td>goincrypto/cryptocom-exchange</td>\n      <td>63</td>\n      <td>False</td>\n      <td>Python</td>\n      <td>1452</td>\n      <td>1238</td>\n    </tr>\n    <tr>\n      <th>1</th>\n      <td>shaofengzeng/SuperPoint-Pytorch</td>\n      <td>105</td>\n      <td>False</td>\n      <td>Python</td>\n      <td>805</td>\n      <td>607</td>\n    </tr>\n    <tr>\n      <th>2</th>\n      <td>HAOLI-TUKL/Multi_Robots_DMPC</td>\n      <td>50</td>\n      <td>False</td>\n      <td>C++</td>\n      <td>1188</td>\n      <td>987</td>\n    </tr>\n    <tr>\n      <th>3</th>\n      <td>LuxDevHQ/Python-Writing-Clean-Code</td>\n      <td>44</td>\n      <td>False</td>\n      <td>NaN</td>\n      <td>898</td>\n      <td>685</td>\n    </tr>\n    <tr>\n      <th>4</th>\n      <td>graphql-compose/graphql-compose-json</td>\n      <td>64</td>\n      <td>False</td>\n      <td>TypeScript</td>\n      <td>2248</td>\n      <td>1582</td>\n    </tr>\n  </tbody>\n</table>\n</div>"
     },
     "execution_count": 7,
     "metadata": {},
     "output_type": "execute_result"
    }
   ],
   "source": [
    "print(repositories_label.shape)\n",
    "repositories_label.head()"
   ],
   "metadata": {
    "collapsed": false,
    "ExecuteTime": {
     "end_time": "2024-10-06T10:40:19.783819Z",
     "start_time": "2024-10-06T10:40:19.765772Z"
    }
   },
   "id": "1f812224f1d558ed",
   "execution_count": 7
  },
  {
   "cell_type": "code",
   "outputs": [
    {
     "name": "stdout",
     "output_type": "stream",
     "text": [
      "nameWithOwner      object\n",
      "stargazerCount      int64\n",
      "isArchived           bool\n",
      "primaryLanguage    object\n",
      "total_lifetime      int64\n",
      "active_lifetime     int64\n",
      "dtype: object\n",
      "nameWithOwner         0\n",
      "stargazerCount        0\n",
      "isArchived            0\n",
      "primaryLanguage    6867\n",
      "total_lifetime        0\n",
      "active_lifetime       0\n",
      "dtype: int64\n"
     ]
    }
   ],
   "source": [
    "print(repositories_label.dtypes)\n",
    "print(repositories_label.isnull().sum())"
   ],
   "metadata": {
    "collapsed": false,
    "ExecuteTime": {
     "end_time": "2024-10-06T10:40:21.148001Z",
     "start_time": "2024-10-06T10:40:21.123938Z"
    }
   },
   "id": "c8f98e431b7faec6",
   "execution_count": 8
  },
  {
   "cell_type": "code",
   "outputs": [
    {
     "name": "stdout",
     "output_type": "stream",
     "text": [
      "label data saved to 'repositories_label.csv'\n",
      "<class 'pandas.core.frame.DataFrame'>\n",
      "RangeIndex: 103354 entries, 0 to 103353\n",
      "Data columns (total 6 columns):\n",
      " #   Column           Non-Null Count   Dtype \n",
      "---  ------           --------------   ----- \n",
      " 0   nameWithOwner    103354 non-null  object\n",
      " 1   stargazerCount   103354 non-null  int64 \n",
      " 2   isArchived       103354 non-null  bool  \n",
      " 3   primaryLanguage  96487 non-null   object\n",
      " 4   total_lifetime   103354 non-null  int64 \n",
      " 5   active_lifetime  103354 non-null  int64 \n",
      "dtypes: bool(1), int64(3), object(2)\n",
      "memory usage: 4.0+ MB\n"
     ]
    },
    {
     "data": {
      "text/plain": "                          nameWithOwner  stargazerCount  isArchived  \\\n0         goincrypto/cryptocom-exchange              63       False   \n1       shaofengzeng/SuperPoint-Pytorch             105       False   \n2          HAOLI-TUKL/Multi_Robots_DMPC              50       False   \n3    LuxDevHQ/Python-Writing-Clean-Code              44       False   \n4  graphql-compose/graphql-compose-json              64       False   \n\n  primaryLanguage  total_lifetime  active_lifetime  \n0          Python            1452             1238  \n1          Python             805              607  \n2             C++            1188              987  \n3             NaN             898              685  \n4      TypeScript            2248             1582  ",
      "text/html": "<div>\n<style scoped>\n    .dataframe tbody tr th:only-of-type {\n        vertical-align: middle;\n    }\n\n    .dataframe tbody tr th {\n        vertical-align: top;\n    }\n\n    .dataframe thead th {\n        text-align: right;\n    }\n</style>\n<table border=\"1\" class=\"dataframe\">\n  <thead>\n    <tr style=\"text-align: right;\">\n      <th></th>\n      <th>nameWithOwner</th>\n      <th>stargazerCount</th>\n      <th>isArchived</th>\n      <th>primaryLanguage</th>\n      <th>total_lifetime</th>\n      <th>active_lifetime</th>\n    </tr>\n  </thead>\n  <tbody>\n    <tr>\n      <th>0</th>\n      <td>goincrypto/cryptocom-exchange</td>\n      <td>63</td>\n      <td>False</td>\n      <td>Python</td>\n      <td>1452</td>\n      <td>1238</td>\n    </tr>\n    <tr>\n      <th>1</th>\n      <td>shaofengzeng/SuperPoint-Pytorch</td>\n      <td>105</td>\n      <td>False</td>\n      <td>Python</td>\n      <td>805</td>\n      <td>607</td>\n    </tr>\n    <tr>\n      <th>2</th>\n      <td>HAOLI-TUKL/Multi_Robots_DMPC</td>\n      <td>50</td>\n      <td>False</td>\n      <td>C++</td>\n      <td>1188</td>\n      <td>987</td>\n    </tr>\n    <tr>\n      <th>3</th>\n      <td>LuxDevHQ/Python-Writing-Clean-Code</td>\n      <td>44</td>\n      <td>False</td>\n      <td>NaN</td>\n      <td>898</td>\n      <td>685</td>\n    </tr>\n    <tr>\n      <th>4</th>\n      <td>graphql-compose/graphql-compose-json</td>\n      <td>64</td>\n      <td>False</td>\n      <td>TypeScript</td>\n      <td>2248</td>\n      <td>1582</td>\n    </tr>\n  </tbody>\n</table>\n</div>"
     },
     "execution_count": 9,
     "metadata": {},
     "output_type": "execute_result"
    }
   ],
   "source": [
    "repositories_label.to_csv('../data/repositories_label.csv', index=False)\n",
    "\n",
    "print(\"label data saved to 'repositories_label.csv'\")\n",
    "repositories_label.info()\n",
    "repositories_label.head()"
   ],
   "metadata": {
    "collapsed": false,
    "ExecuteTime": {
     "end_time": "2024-10-06T10:40:22.021576Z",
     "start_time": "2024-10-06T10:40:21.843511Z"
    }
   },
   "id": "ef1153e0b713c56a",
   "execution_count": 9
  },
  {
   "cell_type": "markdown",
   "source": [
    "# 动态数据预处理"
   ],
   "metadata": {
    "collapsed": false
   },
   "id": "90be11e3140f9021"
  },
  {
   "cell_type": "code",
   "outputs": [
    {
     "name": "stdout",
     "output_type": "stream",
     "text": [
      "(7643885, 9)\n"
     ]
    },
    {
     "data": {
      "text/plain": "   Unnamed: 0                        nameWithOwner beforeYearMonth  commits  \\\n0           0  00-Evan/shattered-pixel-dungeon-gdx      2014-11-01        0   \n1           1  00-Evan/shattered-pixel-dungeon-gdx      2014-12-01        0   \n2           2  00-Evan/shattered-pixel-dungeon-gdx      2015-02-01       13   \n3           3  00-Evan/shattered-pixel-dungeon-gdx      2015-04-01       16   \n4           4  00-Evan/shattered-pixel-dungeon-gdx      2015-05-01        2   \n\n   issues  prs  stars  tags  comments  \n0       0    3      1     0         0  \n1       0    5      1     0         0  \n2       1    0      1     0         0  \n3       1    0      0     2         2  \n4       0    0      0     1         0  ",
      "text/html": "<div>\n<style scoped>\n    .dataframe tbody tr th:only-of-type {\n        vertical-align: middle;\n    }\n\n    .dataframe tbody tr th {\n        vertical-align: top;\n    }\n\n    .dataframe thead th {\n        text-align: right;\n    }\n</style>\n<table border=\"1\" class=\"dataframe\">\n  <thead>\n    <tr style=\"text-align: right;\">\n      <th></th>\n      <th>Unnamed: 0</th>\n      <th>nameWithOwner</th>\n      <th>beforeYearMonth</th>\n      <th>commits</th>\n      <th>issues</th>\n      <th>prs</th>\n      <th>stars</th>\n      <th>tags</th>\n      <th>comments</th>\n    </tr>\n  </thead>\n  <tbody>\n    <tr>\n      <th>0</th>\n      <td>0</td>\n      <td>00-Evan/shattered-pixel-dungeon-gdx</td>\n      <td>2014-11-01</td>\n      <td>0</td>\n      <td>0</td>\n      <td>3</td>\n      <td>1</td>\n      <td>0</td>\n      <td>0</td>\n    </tr>\n    <tr>\n      <th>1</th>\n      <td>1</td>\n      <td>00-Evan/shattered-pixel-dungeon-gdx</td>\n      <td>2014-12-01</td>\n      <td>0</td>\n      <td>0</td>\n      <td>5</td>\n      <td>1</td>\n      <td>0</td>\n      <td>0</td>\n    </tr>\n    <tr>\n      <th>2</th>\n      <td>2</td>\n      <td>00-Evan/shattered-pixel-dungeon-gdx</td>\n      <td>2015-02-01</td>\n      <td>13</td>\n      <td>1</td>\n      <td>0</td>\n      <td>1</td>\n      <td>0</td>\n      <td>0</td>\n    </tr>\n    <tr>\n      <th>3</th>\n      <td>3</td>\n      <td>00-Evan/shattered-pixel-dungeon-gdx</td>\n      <td>2015-04-01</td>\n      <td>16</td>\n      <td>1</td>\n      <td>0</td>\n      <td>0</td>\n      <td>2</td>\n      <td>2</td>\n    </tr>\n    <tr>\n      <th>4</th>\n      <td>4</td>\n      <td>00-Evan/shattered-pixel-dungeon-gdx</td>\n      <td>2015-05-01</td>\n      <td>2</td>\n      <td>0</td>\n      <td>0</td>\n      <td>0</td>\n      <td>1</td>\n      <td>0</td>\n    </tr>\n  </tbody>\n</table>\n</div>"
     },
     "execution_count": 10,
     "metadata": {},
     "output_type": "execute_result"
    }
   ],
   "source": [
    "# 读取动态数据集\n",
    "repositories_statistics = pd.read_csv('../data/Repositories_with_statistics.csv')\n",
    "\n",
    "print(repositories_statistics.shape)\n",
    "repositories_statistics.head()"
   ],
   "metadata": {
    "collapsed": false,
    "ExecuteTime": {
     "end_time": "2024-10-06T10:40:27.312604Z",
     "start_time": "2024-10-06T10:40:23.690182Z"
    }
   },
   "id": "67a29d0a29bf2b3b",
   "execution_count": 10
  },
  {
   "cell_type": "code",
   "outputs": [
    {
     "name": "stdout",
     "output_type": "stream",
     "text": [
      "Unnamed: 0          int64\n",
      "nameWithOwner      object\n",
      "beforeYearMonth    object\n",
      "commits             int64\n",
      "issues              int64\n",
      "prs                 int64\n",
      "stars               int64\n",
      "tags                int64\n",
      "comments            int64\n",
      "dtype: object\n",
      "Unnamed: 0         0\n",
      "nameWithOwner      0\n",
      "beforeYearMonth    0\n",
      "commits            0\n",
      "issues             0\n",
      "prs                0\n",
      "stars              0\n",
      "tags               0\n",
      "comments           0\n",
      "dtype: int64\n"
     ]
    }
   ],
   "source": [
    "print(repositories_statistics.dtypes)\n",
    "print(repositories_statistics.isnull().sum())"
   ],
   "metadata": {
    "collapsed": false,
    "ExecuteTime": {
     "end_time": "2024-10-06T10:40:27.657459Z",
     "start_time": "2024-10-06T10:40:27.314606Z"
    }
   },
   "id": "bf419eb1cd6e24ee",
   "execution_count": 11
  },
  {
   "cell_type": "markdown",
   "source": [
    "#### 加入特征【total_commits】【total_issues】【total_prs】【total_stars】【total_tags】【total_comments】"
   ],
   "metadata": {
    "collapsed": false
   },
   "id": "46f28640c4640e94"
  },
  {
   "cell_type": "code",
   "outputs": [],
   "source": [
    "# 计算总提交数、问题数、PR数等\n",
    "repositories_statistics['total_commits'] = repositories_statistics.groupby('nameWithOwner')['commits'].transform('sum')\n",
    "repositories_statistics['total_issues'] = repositories_statistics.groupby('nameWithOwner')['issues'].transform('sum')\n",
    "repositories_statistics['total_prs'] = repositories_statistics.groupby('nameWithOwner')['prs'].transform('sum')\n",
    "repositories_statistics['total_stars'] = repositories_statistics.groupby('nameWithOwner')['stars'].transform('sum')\n",
    "repositories_statistics['total_tags'] = repositories_statistics.groupby('nameWithOwner')['tags'].transform('sum')\n",
    "repositories_statistics['total_comments'] = repositories_statistics.groupby('nameWithOwner')['comments'].transform('sum')\n"
   ],
   "metadata": {
    "collapsed": false,
    "ExecuteTime": {
     "end_time": "2024-08-12T17:16:00.360429Z",
     "start_time": "2024-08-12T17:15:56.969063Z"
    }
   },
   "id": "7dd44f8b28872aeb",
   "execution_count": 90
  },
  {
   "cell_type": "markdown",
   "source": [
    "#### 加入特征【average_commits】【average_issues】【average_prs】【average_stars】【average_tags】【average_comments】"
   ],
   "metadata": {
    "collapsed": false
   },
   "id": "1e9900ca1bdeb8bd"
  },
  {
   "cell_type": "code",
   "outputs": [
    {
     "name": "stdout",
     "output_type": "stream",
     "text": [
      "Unnamed: 0          int64\n",
      "nameWithOwner      object\n",
      "beforeYearMonth    object\n",
      "commits             int64\n",
      "issues              int64\n",
      "prs                 int64\n",
      "stars               int64\n",
      "tags                int64\n",
      "comments            int64\n",
      "total_commits       int64\n",
      "total_issues        int64\n",
      "total_prs           int64\n",
      "total_stars         int64\n",
      "total_tags          int64\n",
      "total_comments      int64\n",
      "dtype: object\n",
      "nameWithOwner      object\n",
      "stargazerCount      int64\n",
      "isArchived           bool\n",
      "primaryLanguage    object\n",
      "total_lifetime      int64\n",
      "active_lifetime     int64\n",
      "dtype: object\n"
     ]
    },
    {
     "data": {
      "text/plain": "<bound method NDFrame.head of          Unnamed: 0                        nameWithOwner beforeYearMonth  \\\n0                 0  00-Evan/shattered-pixel-dungeon-gdx      2014-11-01   \n1                 1  00-Evan/shattered-pixel-dungeon-gdx      2014-12-01   \n2                 2  00-Evan/shattered-pixel-dungeon-gdx      2015-02-01   \n3                 3  00-Evan/shattered-pixel-dungeon-gdx      2015-04-01   \n4                 4  00-Evan/shattered-pixel-dungeon-gdx      2015-05-01   \n...             ...                                  ...             ...   \n7643880     7643880                zzzprojects/sqlfiddle      2023-02-01   \n7643881     7643881                zzzprojects/sqlfiddle      2023-03-01   \n7643882     7643882                zzzprojects/sqlfiddle      2023-04-01   \n7643883     7643883                zzzprojects/sqlfiddle      2023-05-01   \n7643884     7643884                zzzprojects/sqlfiddle      2023-06-01   \n\n         commits  issues  prs  stars  tags  comments  total_commits  \\\n0              0       0    3      1     0         0            160   \n1              0       0    5      1     0         0            160   \n2             13       1    0      1     0         0            160   \n3             16       1    0      0     2         2            160   \n4              2       0    0      0     1         0            160   \n...          ...     ...  ...    ...   ...       ...            ...   \n7643880        0       0    0      0     0         0              6   \n7643881        0       0    0      0     0         0              6   \n7643882        0       0    0      0     0         0              6   \n7643883        0       0    0      0     0         0              6   \n7643884        0       0    0      0     0         0              6   \n\n         total_issues  total_prs  total_stars  total_tags  total_comments  \\\n0                  33         16          175          57              71   \n1                  33         16          175          57              71   \n2                  33         16          175          57              71   \n3                  33         16          175          57              71   \n4                  33         16          175          57              71   \n...               ...        ...          ...         ...             ...   \n7643880             0          0           16           0               1   \n7643881             0          0           16           0               1   \n7643882             0          0           16           0               1   \n7643883             0          0           16           0               1   \n7643884             0          0           16           0               1   \n\n         total_lifetime  \n0                  3355  \n1                  3355  \n2                  3355  \n3                  3355  \n4                  3355  \n...                 ...  \n7643880            4364  \n7643881            4364  \n7643882            4364  \n7643883            4364  \n7643884            4364  \n\n[7643885 rows x 16 columns]>"
     },
     "execution_count": 91,
     "metadata": {},
     "output_type": "execute_result"
    }
   ],
   "source": [
    "print(repositories_statistics.dtypes)\n",
    "print(repositories_label.dtypes)\n",
    "repositories_statistics = pd.merge(repositories_statistics, repositories_label[['nameWithOwner', 'total_lifetime']], \n",
    "                      on='nameWithOwner', how='left')\n",
    "repositories_statistics.head"
   ],
   "metadata": {
    "collapsed": false,
    "ExecuteTime": {
     "end_time": "2024-08-12T17:16:01.060469Z",
     "start_time": "2024-08-12T17:16:00.362450Z"
    }
   },
   "id": "414b0dfe3853cd76",
   "execution_count": 91
  },
  {
   "cell_type": "code",
   "outputs": [],
   "source": [
    "# 将六列除以divisor_column列\n",
    "repositories_statistics['average_commits'] = repositories_statistics['total_commits'] / repositories_statistics['total_lifetime']\n",
    "repositories_statistics['average_issues'] = repositories_statistics['total_issues'] / repositories_statistics['total_lifetime']\n",
    "repositories_statistics['average_prs'] = repositories_statistics['total_prs'] / repositories_statistics['total_lifetime']\n",
    "repositories_statistics['average_stars'] = repositories_statistics['total_stars'] / repositories_statistics['total_lifetime']\n",
    "repositories_statistics['average_tags'] = repositories_statistics['total_tags'] / repositories_statistics['total_lifetime']\n",
    "repositories_statistics['average_comments'] = repositories_statistics['total_comments'] / repositories_statistics['total_lifetime']\n"
   ],
   "metadata": {
    "collapsed": false,
    "ExecuteTime": {
     "end_time": "2024-08-12T17:16:01.185412Z",
     "start_time": "2024-08-12T17:16:01.061774Z"
    }
   },
   "id": "c82bb919e4243cad",
   "execution_count": 92
  },
  {
   "cell_type": "code",
   "outputs": [
    {
     "name": "stdout",
     "output_type": "stream",
     "text": [
      "Statistics data saved to 'repositories_statistics.csv'\n"
     ]
    },
    {
     "data": {
      "text/plain": "                              nameWithOwner  total_commits  total_issues  \\\n0       00-Evan/shattered-pixel-dungeon-gdx            160            33   \n107                      003random/003Recon             52             8   \n174                 01alchemist/TurboScript            407            85   \n254              0312birdzhang/huihuisignin             92             0   \n332      035media/tailwindcss-flexbox-order             31             2   \n392           03lafaye/LollipopDrawerToggle              0             0   \n406                    04zhujunjie/ZJJPopup             11             0   \n429                    05bit/django-smarter              3             6   \n559                      06wj/DragonBonesJS             34             3   \n625   07Agarg/Automatic-Exposure-Correction              2             1   \n672                     07akioni/css-render            571            13   \n714                         07akioni/xicons            208            40   \n748                     0918nobita/Tsundoku            264            10   \n802                         0Nera/SynapseOS            836            39   \n823                  0XDE57/AssaultCubeHack             28             8   \n910                           0age/HomeWork             29             0   \n961                        0age/metamorphic             15             3   \n1016                   0atman/noboilerplate            175             9   \n1032                     0b01/macintoshplus              0             0   \n1126                        0b01/tectonicdb            207             9   \n\n      total_prs  total_stars  total_tags  total_comments  average_commits  \\\n0            16          175          57              71         0.047690   \n107           8          303           0              24         0.023308   \n174          58          563           2             298         0.158243   \n254           0           32           1               0         0.033034   \n332           2           41           5               9         0.014685   \n392           1           55           0               0         0.000000   \n406           0          282           0               0         0.011282   \n429           5           89           8               0         0.000695   \n559           2           52           2              12         0.011692   \n625           0           38           0               0         0.001304   \n672         950          192           6            1880         0.412871   \n714         781         1048           3            1645         0.180243   \n748           2           15           0               0         0.133333   \n802          95          141          12              78         1.344051   \n823           2           79           1              10         0.010050   \n910          16          124           1               3         0.017376   \n961           1          459           2               1         0.008479   \n1016         28         1620           0              59         0.297619   \n1032          0            7           0               0         0.000000   \n1126        254          424           1             216         0.090829   \n\n      average_issues  average_prs  average_stars  average_tags  \\\n0           0.009836     0.004769       0.052161      0.016990   \n107         0.003586     0.003586       0.135814      0.000000   \n174         0.033048     0.022551       0.218896      0.000778   \n254         0.000000     0.000000       0.011490      0.000359   \n332         0.000947     0.000947       0.019422      0.002369   \n392         0.000000     0.000298       0.016384      0.000000   \n406         0.000000     0.000000       0.289231      0.000000   \n429         0.001390     0.001158       0.020616      0.001853   \n559         0.001032     0.000688       0.017882      0.000688   \n625         0.000652     0.000000       0.024772      0.000000   \n672         0.009400     0.686913       0.138829      0.004338   \n714         0.034662     0.676776       0.908146      0.002600   \n748         0.005051     0.001010       0.007576      0.000000   \n802         0.062701     0.152733       0.226688      0.019293   \n823         0.002872     0.000718       0.028356      0.000359   \n910         0.000000     0.009587       0.074296      0.000599   \n961         0.001696     0.000565       0.259469      0.001131   \n1016        0.015306     0.047619       2.755102      0.000000   \n1032        0.000000     0.000000       0.002153      0.000000   \n1126        0.003949     0.111452       0.186047      0.000439   \n\n      average_comments  \n0             0.021162  \n107           0.010758  \n174           0.115863  \n254           0.000000  \n332           0.004263  \n392           0.000000  \n406           0.000000  \n429           0.000000  \n559           0.004127  \n625           0.000000  \n672           1.359364  \n714           1.425477  \n748           0.000000  \n802           0.125402  \n823           0.003589  \n910           0.001797  \n961           0.000565  \n1016          0.100340  \n1032          0.000000  \n1126          0.094778  ",
      "text/html": "<div>\n<style scoped>\n    .dataframe tbody tr th:only-of-type {\n        vertical-align: middle;\n    }\n\n    .dataframe tbody tr th {\n        vertical-align: top;\n    }\n\n    .dataframe thead th {\n        text-align: right;\n    }\n</style>\n<table border=\"1\" class=\"dataframe\">\n  <thead>\n    <tr style=\"text-align: right;\">\n      <th></th>\n      <th>nameWithOwner</th>\n      <th>total_commits</th>\n      <th>total_issues</th>\n      <th>total_prs</th>\n      <th>total_stars</th>\n      <th>total_tags</th>\n      <th>total_comments</th>\n      <th>average_commits</th>\n      <th>average_issues</th>\n      <th>average_prs</th>\n      <th>average_stars</th>\n      <th>average_tags</th>\n      <th>average_comments</th>\n    </tr>\n  </thead>\n  <tbody>\n    <tr>\n      <th>0</th>\n      <td>00-Evan/shattered-pixel-dungeon-gdx</td>\n      <td>160</td>\n      <td>33</td>\n      <td>16</td>\n      <td>175</td>\n      <td>57</td>\n      <td>71</td>\n      <td>0.047690</td>\n      <td>0.009836</td>\n      <td>0.004769</td>\n      <td>0.052161</td>\n      <td>0.016990</td>\n      <td>0.021162</td>\n    </tr>\n    <tr>\n      <th>107</th>\n      <td>003random/003Recon</td>\n      <td>52</td>\n      <td>8</td>\n      <td>8</td>\n      <td>303</td>\n      <td>0</td>\n      <td>24</td>\n      <td>0.023308</td>\n      <td>0.003586</td>\n      <td>0.003586</td>\n      <td>0.135814</td>\n      <td>0.000000</td>\n      <td>0.010758</td>\n    </tr>\n    <tr>\n      <th>174</th>\n      <td>01alchemist/TurboScript</td>\n      <td>407</td>\n      <td>85</td>\n      <td>58</td>\n      <td>563</td>\n      <td>2</td>\n      <td>298</td>\n      <td>0.158243</td>\n      <td>0.033048</td>\n      <td>0.022551</td>\n      <td>0.218896</td>\n      <td>0.000778</td>\n      <td>0.115863</td>\n    </tr>\n    <tr>\n      <th>254</th>\n      <td>0312birdzhang/huihuisignin</td>\n      <td>92</td>\n      <td>0</td>\n      <td>0</td>\n      <td>32</td>\n      <td>1</td>\n      <td>0</td>\n      <td>0.033034</td>\n      <td>0.000000</td>\n      <td>0.000000</td>\n      <td>0.011490</td>\n      <td>0.000359</td>\n      <td>0.000000</td>\n    </tr>\n    <tr>\n      <th>332</th>\n      <td>035media/tailwindcss-flexbox-order</td>\n      <td>31</td>\n      <td>2</td>\n      <td>2</td>\n      <td>41</td>\n      <td>5</td>\n      <td>9</td>\n      <td>0.014685</td>\n      <td>0.000947</td>\n      <td>0.000947</td>\n      <td>0.019422</td>\n      <td>0.002369</td>\n      <td>0.004263</td>\n    </tr>\n    <tr>\n      <th>392</th>\n      <td>03lafaye/LollipopDrawerToggle</td>\n      <td>0</td>\n      <td>0</td>\n      <td>1</td>\n      <td>55</td>\n      <td>0</td>\n      <td>0</td>\n      <td>0.000000</td>\n      <td>0.000000</td>\n      <td>0.000298</td>\n      <td>0.016384</td>\n      <td>0.000000</td>\n      <td>0.000000</td>\n    </tr>\n    <tr>\n      <th>406</th>\n      <td>04zhujunjie/ZJJPopup</td>\n      <td>11</td>\n      <td>0</td>\n      <td>0</td>\n      <td>282</td>\n      <td>0</td>\n      <td>0</td>\n      <td>0.011282</td>\n      <td>0.000000</td>\n      <td>0.000000</td>\n      <td>0.289231</td>\n      <td>0.000000</td>\n      <td>0.000000</td>\n    </tr>\n    <tr>\n      <th>429</th>\n      <td>05bit/django-smarter</td>\n      <td>3</td>\n      <td>6</td>\n      <td>5</td>\n      <td>89</td>\n      <td>8</td>\n      <td>0</td>\n      <td>0.000695</td>\n      <td>0.001390</td>\n      <td>0.001158</td>\n      <td>0.020616</td>\n      <td>0.001853</td>\n      <td>0.000000</td>\n    </tr>\n    <tr>\n      <th>559</th>\n      <td>06wj/DragonBonesJS</td>\n      <td>34</td>\n      <td>3</td>\n      <td>2</td>\n      <td>52</td>\n      <td>2</td>\n      <td>12</td>\n      <td>0.011692</td>\n      <td>0.001032</td>\n      <td>0.000688</td>\n      <td>0.017882</td>\n      <td>0.000688</td>\n      <td>0.004127</td>\n    </tr>\n    <tr>\n      <th>625</th>\n      <td>07Agarg/Automatic-Exposure-Correction</td>\n      <td>2</td>\n      <td>1</td>\n      <td>0</td>\n      <td>38</td>\n      <td>0</td>\n      <td>0</td>\n      <td>0.001304</td>\n      <td>0.000652</td>\n      <td>0.000000</td>\n      <td>0.024772</td>\n      <td>0.000000</td>\n      <td>0.000000</td>\n    </tr>\n    <tr>\n      <th>672</th>\n      <td>07akioni/css-render</td>\n      <td>571</td>\n      <td>13</td>\n      <td>950</td>\n      <td>192</td>\n      <td>6</td>\n      <td>1880</td>\n      <td>0.412871</td>\n      <td>0.009400</td>\n      <td>0.686913</td>\n      <td>0.138829</td>\n      <td>0.004338</td>\n      <td>1.359364</td>\n    </tr>\n    <tr>\n      <th>714</th>\n      <td>07akioni/xicons</td>\n      <td>208</td>\n      <td>40</td>\n      <td>781</td>\n      <td>1048</td>\n      <td>3</td>\n      <td>1645</td>\n      <td>0.180243</td>\n      <td>0.034662</td>\n      <td>0.676776</td>\n      <td>0.908146</td>\n      <td>0.002600</td>\n      <td>1.425477</td>\n    </tr>\n    <tr>\n      <th>748</th>\n      <td>0918nobita/Tsundoku</td>\n      <td>264</td>\n      <td>10</td>\n      <td>2</td>\n      <td>15</td>\n      <td>0</td>\n      <td>0</td>\n      <td>0.133333</td>\n      <td>0.005051</td>\n      <td>0.001010</td>\n      <td>0.007576</td>\n      <td>0.000000</td>\n      <td>0.000000</td>\n    </tr>\n    <tr>\n      <th>802</th>\n      <td>0Nera/SynapseOS</td>\n      <td>836</td>\n      <td>39</td>\n      <td>95</td>\n      <td>141</td>\n      <td>12</td>\n      <td>78</td>\n      <td>1.344051</td>\n      <td>0.062701</td>\n      <td>0.152733</td>\n      <td>0.226688</td>\n      <td>0.019293</td>\n      <td>0.125402</td>\n    </tr>\n    <tr>\n      <th>823</th>\n      <td>0XDE57/AssaultCubeHack</td>\n      <td>28</td>\n      <td>8</td>\n      <td>2</td>\n      <td>79</td>\n      <td>1</td>\n      <td>10</td>\n      <td>0.010050</td>\n      <td>0.002872</td>\n      <td>0.000718</td>\n      <td>0.028356</td>\n      <td>0.000359</td>\n      <td>0.003589</td>\n    </tr>\n    <tr>\n      <th>910</th>\n      <td>0age/HomeWork</td>\n      <td>29</td>\n      <td>0</td>\n      <td>16</td>\n      <td>124</td>\n      <td>1</td>\n      <td>3</td>\n      <td>0.017376</td>\n      <td>0.000000</td>\n      <td>0.009587</td>\n      <td>0.074296</td>\n      <td>0.000599</td>\n      <td>0.001797</td>\n    </tr>\n    <tr>\n      <th>961</th>\n      <td>0age/metamorphic</td>\n      <td>15</td>\n      <td>3</td>\n      <td>1</td>\n      <td>459</td>\n      <td>2</td>\n      <td>1</td>\n      <td>0.008479</td>\n      <td>0.001696</td>\n      <td>0.000565</td>\n      <td>0.259469</td>\n      <td>0.001131</td>\n      <td>0.000565</td>\n    </tr>\n    <tr>\n      <th>1016</th>\n      <td>0atman/noboilerplate</td>\n      <td>175</td>\n      <td>9</td>\n      <td>28</td>\n      <td>1620</td>\n      <td>0</td>\n      <td>59</td>\n      <td>0.297619</td>\n      <td>0.015306</td>\n      <td>0.047619</td>\n      <td>2.755102</td>\n      <td>0.000000</td>\n      <td>0.100340</td>\n    </tr>\n    <tr>\n      <th>1032</th>\n      <td>0b01/macintoshplus</td>\n      <td>0</td>\n      <td>0</td>\n      <td>0</td>\n      <td>7</td>\n      <td>0</td>\n      <td>0</td>\n      <td>0.000000</td>\n      <td>0.000000</td>\n      <td>0.000000</td>\n      <td>0.002153</td>\n      <td>0.000000</td>\n      <td>0.000000</td>\n    </tr>\n    <tr>\n      <th>1126</th>\n      <td>0b01/tectonicdb</td>\n      <td>207</td>\n      <td>9</td>\n      <td>254</td>\n      <td>424</td>\n      <td>1</td>\n      <td>216</td>\n      <td>0.090829</td>\n      <td>0.003949</td>\n      <td>0.111452</td>\n      <td>0.186047</td>\n      <td>0.000439</td>\n      <td>0.094778</td>\n    </tr>\n  </tbody>\n</table>\n</div>"
     },
     "execution_count": 93,
     "metadata": {},
     "output_type": "execute_result"
    }
   ],
   "source": [
    "# 删除重复的行\n",
    "repositories_statistics = repositories_statistics.drop_duplicates(subset=['nameWithOwner'])\n",
    "\n",
    "# 选择需要的列\n",
    "repositories_statistics = repositories_statistics[['nameWithOwner', 'total_commits', 'total_issues', 'total_prs', 'total_stars', 'total_tags', 'total_comments', 'average_commits', 'average_issues', 'average_prs', 'average_stars', 'average_tags', 'average_comments']]\n",
    "\n",
    "repositories_statistics.to_csv('../data/repositories_statistics.csv', index=False)\n",
    "\n",
    "print(\"Statistics data saved to 'repositories_statistics.csv'\")\n",
    "repositories_statistics.head(20)"
   ],
   "metadata": {
    "collapsed": false,
    "ExecuteTime": {
     "end_time": "2024-08-12T17:16:01.975004Z",
     "start_time": "2024-08-12T17:16:01.186414Z"
    }
   },
   "id": "becc9d1a3e83a3b4",
   "execution_count": 93
  },
  {
   "cell_type": "markdown",
   "source": [
    "# 得到初步处理后的数据集"
   ],
   "metadata": {
    "collapsed": false
   },
   "id": "cca392a19f97b120"
  },
  {
   "cell_type": "code",
   "outputs": [
    {
     "name": "stdout",
     "output_type": "stream",
     "text": [
      "nameWithOwner      0\n",
      "stargazerCount     0\n",
      "isArchived         0\n",
      "primaryLanguage    0\n",
      "total_lifetime     0\n",
      "active_lifetime    0\n",
      "dtype: int64\n",
      "nameWithOwner       0\n",
      "total_commits       0\n",
      "total_issues        0\n",
      "total_prs           0\n",
      "total_stars         0\n",
      "total_tags          0\n",
      "total_comments      0\n",
      "average_commits     0\n",
      "average_issues      0\n",
      "average_prs         0\n",
      "average_stars       0\n",
      "average_tags        0\n",
      "average_comments    0\n",
      "dtype: int64\n"
     ]
    }
   ],
   "source": [
    "# 处理缺失值\n",
    "print(repositories_label.isnull().sum())\n",
    "print(repositories_statistics.isnull().sum())\n",
    "# 删除带有缺失值的数据行\n",
    "repositories_label = repositories_label.dropna(subset=['primaryLanguage'])"
   ],
   "metadata": {
    "collapsed": false,
    "ExecuteTime": {
     "end_time": "2024-08-12T17:16:39.896492Z",
     "start_time": "2024-08-12T17:16:39.861839Z"
    }
   },
   "id": "396c071f3a0bfdca",
   "execution_count": 100
  },
  {
   "cell_type": "code",
   "outputs": [
    {
     "data": {
      "text/plain": "                          nameWithOwner  stargazerCount  isArchived  \\\n0         goincrypto/cryptocom-exchange              63       False   \n1       shaofengzeng/SuperPoint-Pytorch             105       False   \n2          HAOLI-TUKL/Multi_Robots_DMPC              50       False   \n3  graphql-compose/graphql-compose-json              64       False   \n4        mcuadros/go-rpi-rgb-led-matrix              75       False   \n\n  primaryLanguage  total_lifetime  active_lifetime  total_commits  \\\n0          Python            1452             1238            521   \n1          Python             805              607            140   \n2             C++            1188              987             65   \n3      TypeScript            2248             1582             61   \n4              Go            2625             2413             37   \n\n   total_issues  total_prs  total_stars  total_tags  total_comments  \\\n0            23         22           69          25              58   \n1            28          1          121           0             102   \n2             3          0           57           0               0   \n3             5         49           65          21              55   \n4            12          6           82           0              24   \n\n   average_commits  average_issues  average_prs  average_stars  average_tags  \\\n0         0.358815        0.015840     0.015152       0.047521      0.017218   \n1         0.173913        0.034783     0.001242       0.150311      0.000000   \n2         0.054714        0.002525     0.000000       0.047980      0.000000   \n3         0.027135        0.002224     0.021797       0.028915      0.009342   \n4         0.014095        0.004571     0.002286       0.031238      0.000000   \n\n   average_comments  \n0          0.039945  \n1          0.126708  \n2          0.000000  \n3          0.024466  \n4          0.009143  ",
      "text/html": "<div>\n<style scoped>\n    .dataframe tbody tr th:only-of-type {\n        vertical-align: middle;\n    }\n\n    .dataframe tbody tr th {\n        vertical-align: top;\n    }\n\n    .dataframe thead th {\n        text-align: right;\n    }\n</style>\n<table border=\"1\" class=\"dataframe\">\n  <thead>\n    <tr style=\"text-align: right;\">\n      <th></th>\n      <th>nameWithOwner</th>\n      <th>stargazerCount</th>\n      <th>isArchived</th>\n      <th>primaryLanguage</th>\n      <th>total_lifetime</th>\n      <th>active_lifetime</th>\n      <th>total_commits</th>\n      <th>total_issues</th>\n      <th>total_prs</th>\n      <th>total_stars</th>\n      <th>total_tags</th>\n      <th>total_comments</th>\n      <th>average_commits</th>\n      <th>average_issues</th>\n      <th>average_prs</th>\n      <th>average_stars</th>\n      <th>average_tags</th>\n      <th>average_comments</th>\n    </tr>\n  </thead>\n  <tbody>\n    <tr>\n      <th>0</th>\n      <td>goincrypto/cryptocom-exchange</td>\n      <td>63</td>\n      <td>False</td>\n      <td>Python</td>\n      <td>1452</td>\n      <td>1238</td>\n      <td>521</td>\n      <td>23</td>\n      <td>22</td>\n      <td>69</td>\n      <td>25</td>\n      <td>58</td>\n      <td>0.358815</td>\n      <td>0.015840</td>\n      <td>0.015152</td>\n      <td>0.047521</td>\n      <td>0.017218</td>\n      <td>0.039945</td>\n    </tr>\n    <tr>\n      <th>1</th>\n      <td>shaofengzeng/SuperPoint-Pytorch</td>\n      <td>105</td>\n      <td>False</td>\n      <td>Python</td>\n      <td>805</td>\n      <td>607</td>\n      <td>140</td>\n      <td>28</td>\n      <td>1</td>\n      <td>121</td>\n      <td>0</td>\n      <td>102</td>\n      <td>0.173913</td>\n      <td>0.034783</td>\n      <td>0.001242</td>\n      <td>0.150311</td>\n      <td>0.000000</td>\n      <td>0.126708</td>\n    </tr>\n    <tr>\n      <th>2</th>\n      <td>HAOLI-TUKL/Multi_Robots_DMPC</td>\n      <td>50</td>\n      <td>False</td>\n      <td>C++</td>\n      <td>1188</td>\n      <td>987</td>\n      <td>65</td>\n      <td>3</td>\n      <td>0</td>\n      <td>57</td>\n      <td>0</td>\n      <td>0</td>\n      <td>0.054714</td>\n      <td>0.002525</td>\n      <td>0.000000</td>\n      <td>0.047980</td>\n      <td>0.000000</td>\n      <td>0.000000</td>\n    </tr>\n    <tr>\n      <th>3</th>\n      <td>graphql-compose/graphql-compose-json</td>\n      <td>64</td>\n      <td>False</td>\n      <td>TypeScript</td>\n      <td>2248</td>\n      <td>1582</td>\n      <td>61</td>\n      <td>5</td>\n      <td>49</td>\n      <td>65</td>\n      <td>21</td>\n      <td>55</td>\n      <td>0.027135</td>\n      <td>0.002224</td>\n      <td>0.021797</td>\n      <td>0.028915</td>\n      <td>0.009342</td>\n      <td>0.024466</td>\n    </tr>\n    <tr>\n      <th>4</th>\n      <td>mcuadros/go-rpi-rgb-led-matrix</td>\n      <td>75</td>\n      <td>False</td>\n      <td>Go</td>\n      <td>2625</td>\n      <td>2413</td>\n      <td>37</td>\n      <td>12</td>\n      <td>6</td>\n      <td>82</td>\n      <td>0</td>\n      <td>24</td>\n      <td>0.014095</td>\n      <td>0.004571</td>\n      <td>0.002286</td>\n      <td>0.031238</td>\n      <td>0.000000</td>\n      <td>0.009143</td>\n    </tr>\n  </tbody>\n</table>\n</div>"
     },
     "execution_count": 101,
     "metadata": {},
     "output_type": "execute_result"
    }
   ],
   "source": [
    "# 合并数据集\n",
    "merged_data = pd.merge(repositories_label, repositories_statistics, on='nameWithOwner', how='inner')\n",
    "merged_data.head()"
   ],
   "metadata": {
    "collapsed": false,
    "ExecuteTime": {
     "end_time": "2024-08-12T17:16:45.746587Z",
     "start_time": "2024-08-12T17:16:45.656293Z"
    }
   },
   "id": "24f9f31f88c9c800",
   "execution_count": 101
  },
  {
   "cell_type": "code",
   "outputs": [
    {
     "name": "stdout",
     "output_type": "stream",
     "text": [
      "Merged data saved to 'repositories_merged.csv'\n",
      "<class 'pandas.core.frame.DataFrame'>\n",
      "RangeIndex: 96487 entries, 0 to 96486\n",
      "Data columns (total 18 columns):\n",
      " #   Column            Non-Null Count  Dtype  \n",
      "---  ------            --------------  -----  \n",
      " 0   nameWithOwner     96487 non-null  object \n",
      " 1   stargazerCount    96487 non-null  int64  \n",
      " 2   isArchived        96487 non-null  bool   \n",
      " 3   primaryLanguage   96487 non-null  object \n",
      " 4   total_lifetime    96487 non-null  int64  \n",
      " 5   active_lifetime   96487 non-null  int64  \n",
      " 6   total_commits     96487 non-null  int64  \n",
      " 7   total_issues      96487 non-null  int64  \n",
      " 8   total_prs         96487 non-null  int64  \n",
      " 9   total_stars       96487 non-null  int64  \n",
      " 10  total_tags        96487 non-null  int64  \n",
      " 11  total_comments    96487 non-null  int64  \n",
      " 12  average_commits   96487 non-null  float64\n",
      " 13  average_issues    96487 non-null  float64\n",
      " 14  average_prs       96487 non-null  float64\n",
      " 15  average_stars     96487 non-null  float64\n",
      " 16  average_tags      96487 non-null  float64\n",
      " 17  average_comments  96487 non-null  float64\n",
      "dtypes: bool(1), float64(6), int64(9), object(2)\n",
      "memory usage: 12.6+ MB\n"
     ]
    }
   ],
   "source": [
    "# 保存合并后的数据\n",
    "merged_data.to_csv('../data/repositories_merged.csv', index=False)\n",
    "\n",
    "print(\"Merged data saved to 'repositories_merged.csv'\")\n",
    "merged_data.info()"
   ],
   "metadata": {
    "collapsed": false,
    "ExecuteTime": {
     "end_time": "2024-08-12T17:16:55.094696Z",
     "start_time": "2024-08-12T17:16:54.468502Z"
    }
   },
   "id": "3534edaef4c84ced",
   "execution_count": 102
  }
 ],
 "metadata": {
  "kernelspec": {
   "name": "conda-env-lacpytorch-py",
   "language": "python",
   "display_name": "Python [conda env:lacpytorch] *"
  },
  "language_info": {
   "codemirror_mode": {
    "name": "ipython",
    "version": 2
   },
   "file_extension": ".py",
   "mimetype": "text/x-python",
   "name": "python",
   "nbconvert_exporter": "python",
   "pygments_lexer": "ipython2",
   "version": "2.7.6"
  }
 },
 "nbformat": 4,
 "nbformat_minor": 5
}
